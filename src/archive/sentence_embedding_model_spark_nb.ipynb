{
 "cells": [
  {
   "cell_type": "markdown",
   "source": [
    "## Installation in databricks\n",
    "\n",
    "On an existing cluster, add the following to the Advanced Options -> Spark tab:\n",
    "``` \n",
    "  spark.kryoserializer.buffer.max 2000M\n",
    "  spark.serializer org.apache.spark.serializer.KryoSerializer\n",
    "```\n",
    "\n",
    "In Libraries tab inside the cluster:\n",
    "  * Install New -> PyPI -> spark-nlp==4.4.0 -> Install\n",
    "  * Install New -> Maven -> Coordinates -> com.johnsnowlabs.nlp:spark-nlp_2.12:4.4.0 -> Install\n",
    "  \n",
    "Source - https://github.com/JohnSnowLabs/spark-nlp#databricks-cluster"
   ],
   "metadata": {
    "application/vnd.databricks.v1+cell": {
     "showTitle": false,
     "cellMetadata": {},
     "nuid": "bbed6ec8-6c34-4798-8718-6ab57df408ae",
     "inputWidgets": {},
     "title": ""
    },
    "pycharm": {
     "name": "#%% md\n"
    }
   }
  },
  {
   "cell_type": "code",
   "source": [
    "import sparknlp\n",
    "from pyspark.ml.classification import LogisticRegression\n",
    "from pyspark.ml.linalg import VectorUDT\n",
    "from pyspark.ml.linalg import Vectors\n",
    "from pyspark.sql.functions import col, udf\n",
    "from pyspark.sql.types import ArrayType, DoubleType, IntegerType\n",
    "from sparknlp.annotator import *\n",
    "from pyspark.ml.feature import VectorAssembler\n",
    "from sparknlp.base import *\n",
    "from pyspark.sql.functions import explode"
   ],
   "metadata": {
    "application/vnd.databricks.v1+cell": {
     "showTitle": false,
     "cellMetadata": {},
     "nuid": "69fe4605-24f0-4026-9355-ef2f9e09ee20",
     "inputWidgets": {},
     "title": ""
    },
    "pycharm": {
     "name": "#%%\n"
    }
   },
   "outputs": [],
   "execution_count": 0
  },
  {
   "cell_type": "code",
   "source": [
    "data = spark.read.format('csv').option('header', True).load('dbfs:/FileStore/tables/train.csv').limit(100)\n",
    "data = data.withColumn(\"target\", data[\"target\"].cast(IntegerType()))\n",
    "data.printSchema()"
   ],
   "metadata": {
    "application/vnd.databricks.v1+cell": {
     "showTitle": false,
     "cellMetadata": {},
     "nuid": "feff951e-4086-4180-9307-894502f10189",
     "inputWidgets": {},
     "title": ""
    },
    "pycharm": {
     "name": "#%%\n"
    }
   },
   "outputs": [
    {
     "output_type": "stream",
     "name": "stdout",
     "text": [
      "root\n |-- qid: string (nullable = true)\n |-- question_text: string (nullable = true)\n |-- target: integer (nullable = true)\n\n"
     ]
    }
   ],
   "execution_count": 0
  },
  {
   "cell_type": "code",
   "source": [
    "#this will take some time to download, please be patient\n",
    "useEmbeddings = UniversalSentenceEncoder.pretrained().setInputCols(\"document\").setOutputCol(\"use_embeddings\")"
   ],
   "metadata": {
    "application/vnd.databricks.v1+cell": {
     "showTitle": false,
     "cellMetadata": {},
     "nuid": "9cbd6076-5d93-447b-b507-41ee95e653cc",
     "inputWidgets": {},
     "title": ""
    },
    "pycharm": {
     "name": "#%%\n"
    }
   },
   "outputs": [
    {
     "output_type": "stream",
     "name": "stdout",
     "text": [
      "tfhub_use download started this may take some time.\nApproximate size to download 923.7 MB\n\r[ | ]\r[OK!]\n"
     ]
    }
   ],
   "execution_count": 0
  },
  {
   "cell_type": "code",
   "source": [
    "document_assembler = DocumentAssembler().setInputCol(\"question_text\").setOutputCol(\"document\")\n",
    "embeddings_finisher = EmbeddingsFinisher().setInputCols([\"use_embeddings\"]).setOutputCols([\"finished_use_embeddings\"]) \\\n",
    "      .setOutputAsVector(True).setCleanAnnotations(False)\n",
    "\n",
    "use_pipeline = Pipeline(stages=[\n",
    "        document_assembler,\n",
    "        useEmbeddings,\n",
    "        embeddings_finisher])\n",
    "\n",
    "use_df = use_pipeline.fit(data).transform(data)\n",
    "use_df.select('finished_use_embeddings').show(3)\n",
    "use_df= use_df.withColumn(\"features\", explode(use_df.finished_use_embeddings))"
   ],
   "metadata": {
    "application/vnd.databricks.v1+cell": {
     "showTitle": false,
     "cellMetadata": {},
     "nuid": "53ce0b81-7c8b-4d5d-8992-f7f1fe101d96",
     "inputWidgets": {},
     "title": ""
    },
    "pycharm": {
     "name": "#%%\n"
    }
   },
   "outputs": [
    {
     "output_type": "stream",
     "name": "stdout",
     "text": [
      "+-----------------------+\n|finished_use_embeddings|\n+-----------------------+\n|   [[-0.004166585393...|\n|   [[0.0288510099053...|\n|   [[-0.027575196698...|\n+-----------------------+\nonly showing top 3 rows\n\n"
     ]
    }
   ],
   "execution_count": 0
  },
  {
   "cell_type": "code",
   "source": [
    "(trainingData, testData) = use_df.randomSplit([0.7, 0.3], seed = 100)\n",
    "lr = LogisticRegression(labelCol=\"target\", featuresCol=\"features\", maxIter=10, regParam=0.3, elasticNetParam=0.8)\n",
    "lrParisModel = lr.fit(trainingData)\n",
    "predictions = lrParisModel.transform(testData)\n",
    "\n",
    "predictions.select(\"target\",\"prediction\").show(n = 10, truncate = 30)"
   ],
   "metadata": {
    "application/vnd.databricks.v1+cell": {
     "showTitle": false,
     "cellMetadata": {},
     "nuid": "3a706430-2c0e-4f42-98b0-e64de5620de5",
     "inputWidgets": {},
     "title": ""
    },
    "pycharm": {
     "name": "#%%\n"
    }
   },
   "outputs": [
    {
     "output_type": "stream",
     "name": "stdout",
     "text": [
      "+------+----------+\n|target|prediction|\n+------+----------+\n|     0|       0.0|\n|     0|       0.0|\n|     0|       0.0|\n|     0|       0.0|\n|     0|       0.0|\n|     0|       0.0|\n|     0|       0.0|\n|     0|       0.0|\n|     0|       0.0|\n|     0|       0.0|\n+------+----------+\nonly showing top 10 rows\n\n"
     ]
    }
   ],
   "execution_count": 0
  }
 ],
 "metadata": {
  "application/vnd.databricks.v1+notebook": {
   "notebookName": "sentence_embedding_model_spark",
   "dashboards": [],
   "notebookMetadata": {
    "pythonIndentUnit": 4
   },
   "language": "python",
   "widgets": {},
   "notebookOrigID": 1178277917440739
  }
 },
 "nbformat": 4,
 "nbformat_minor": 0
}