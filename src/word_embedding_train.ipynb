{
 "cells": [
  {
   "cell_type": "markdown",
   "metadata": {
    "pycharm": {
     "name": "#%% md\n"
    }
   },
   "source": [
    "### AIT 614 - Big Data Essentials <br>\n",
    "#### DL2 Team 3 Final Project\n",
    "#### Detecting Abrasive online user content\n",
    "\n",
    "##### Team 3\n",
    "Yasser Parambathkandy\n",
    "\n",
    "Indranil Pal\n",
    "\n",
    "Deepak Rajan\n",
    "\n",
    "<br>\n",
    "\n",
    "##### University\n",
    "George Mason University\n"
   ]
  },
  {
   "cell_type": "markdown",
   "metadata": {
    "application/vnd.databricks.v1+cell": {
     "cellMetadata": {},
     "inputWidgets": {},
     "nuid": "bbed6ec8-6c34-4798-8718-6ab57df408ae",
     "showTitle": false,
     "title": ""
    },
    "pycharm": {
     "name": "#%% md\n"
    }
   },
   "source": [
    "##### Installation\n",
    "\n",
    "###### Databricks:\n",
    "On an existing cluster, add the following to the Advanced Options -> Spark tab:\n",
    "```\n",
    "  spark.kryoserializer.buffer.max 2000M\n",
    "  spark.serializer org.apache.spark.serializer.KryoSerializer\n",
    "```\n",
    "\n",
    "In Libraries tab inside the cluster:\n",
    "  * Install New -> PyPI -> spark-nlp==4.4.0 -> Install\n",
    "  * Install New -> Maven -> Coordinates -> com.johnsnowlabs.nlp:spark-nlp_2.12:4.4.0 -> Install\n",
    "\n",
    "Refer https://github.com/JohnSnowLabs/spark-nlp#databricks-cluster for installation issues\n",
    "\n",
    "###### Local Machine:\n",
    "See README\n",
    "<br>\n",
    "\n",
    "##### Data load\n",
    "\n",
    "Upload train.csv to databricks. It should get loaded to dbfs:/FileStore/tables/train.csv\n",
    "For local development, update train.csv file path in second cell below\n",
    "<br>\n",
    "##### Saving Model\n",
    "\n",
    "Save model to use in real-time prediction services. The model gets saved to S3 bucket if runtime environment is databricks and AWS accesskey csv has been uploaded to dbfs:/FileStore/tables/ait614_databricks_accessKeys.csv. If either condition is not satisfied, then model is not saved in databricks. To overwrite the file path, bucket name, update properties in second cell below\n",
    "For local development, model is always saved.\n",
    "\n",
    "Saved model is used by prediction services when user enter new questions in UI."
   ]
  },
  {
   "cell_type": "code",
   "execution_count": 18,
   "metadata": {
    "application/vnd.databricks.v1+cell": {
     "cellMetadata": {},
     "inputWidgets": {},
     "nuid": "69fe4605-24f0-4026-9355-ef2f9e09ee20",
     "showTitle": false,
     "title": ""
    },
    "pycharm": {
     "name": "#%%\n"
    }
   },
   "outputs": [],
   "source": [
    "import os\n",
    "import datetime\n",
    "\n",
    "import matplotlib.pyplot as plt\n",
    "import sparknlp\n",
    "from pyspark.ml.classification import LogisticRegression\n",
    "from pyspark.ml.evaluation import BinaryClassificationEvaluator\n",
    "from pyspark.ml.linalg import VectorUDT\n",
    "from pyspark.ml.linalg import Vectors\n",
    "from pyspark.sql.functions import col, udf, lit\n",
    "from pyspark.sql.types import ArrayType, DoubleType\n",
    "from sklearn.metrics import roc_curve, auc, classification_report, accuracy_score\n",
    "from sparknlp.annotator import *\n",
    "from sparknlp.base import *"
   ]
  },
  {
   "cell_type": "code",
   "execution_count": 19,
   "metadata": {
    "pycharm": {
     "name": "#%%\n"
    }
   },
   "outputs": [
    {
     "name": "stderr",
     "output_type": "stream",
     "text": [
      "23/04/23 12:03:14 WARN Utils: Your hostname, DESKTOP-7N61Q81 resolves to a loopback address: 127.0.1.1; using 172.26.165.188 instead (on interface eth0)\n",
      "23/04/23 12:03:14 WARN Utils: Set SPARK_LOCAL_IP if you need to bind to another address\n",
      "WARNING: An illegal reflective access operation has occurred\n",
      "WARNING: Illegal reflective access by org.apache.spark.unsafe.Platform (file:/home/yarafatin/softwares/anaconda3/envs/ait614/lib/python3.10/site-packages/pyspark/jars/spark-unsafe_2.12-3.2.1.jar) to constructor java.nio.DirectByteBuffer(long,int)\n",
      "WARNING: Please consider reporting this to the maintainers of org.apache.spark.unsafe.Platform\n",
      "WARNING: Use --illegal-access=warn to enable warnings of further illegal reflective access operations\n",
      "WARNING: All illegal access operations will be denied in a future release\n",
      "Ivy Default Cache set to: /home/yarafatin/.ivy2/cache\n",
      "The jars for the packages stored in: /home/yarafatin/.ivy2/jars\n",
      "com.johnsnowlabs.nlp#spark-nlp_2.12 added as a dependency\n",
      ":: resolving dependencies :: org.apache.spark#spark-submit-parent-2a35eb90-a49f-486e-8b05-856d3e1e2be5;1.0\n",
      "\tconfs: [default]\n"
     ]
    },
    {
     "name": "stdout",
     "output_type": "stream",
     "text": [
      ":: loading settings :: url = jar:file:/home/yarafatin/softwares/anaconda3/envs/ait614/lib/python3.10/site-packages/pyspark/jars/ivy-2.5.0.jar!/org/apache/ivy/core/settings/ivysettings.xml\n"
     ]
    },
    {
     "name": "stderr",
     "output_type": "stream",
     "text": [
      "\tfound com.johnsnowlabs.nlp#spark-nlp_2.12;4.4.0 in central\n",
      "\tfound com.typesafe#config;1.4.2 in central\n",
      "\tfound org.rocksdb#rocksdbjni;6.29.5 in central\n",
      "\tfound com.amazonaws#aws-java-sdk-bundle;1.11.828 in central\n",
      "\tfound com.github.universal-automata#liblevenshtein;3.0.0 in central\n",
      "\tfound com.google.protobuf#protobuf-java-util;3.0.0-beta-3 in central\n",
      "\tfound com.google.protobuf#protobuf-java;3.0.0-beta-3 in central\n",
      "\tfound com.google.code.gson#gson;2.3 in central\n",
      "\tfound it.unimi.dsi#fastutil;7.0.12 in central\n",
      "\tfound org.projectlombok#lombok;1.16.8 in central\n",
      "\tfound com.google.cloud#google-cloud-storage;2.16.0 in central\n",
      "\tfound com.google.guava#guava;31.1-jre in central\n",
      "\tfound com.google.guava#failureaccess;1.0.1 in local-m2-cache\n",
      "\tfound com.google.guava#listenablefuture;9999.0-empty-to-avoid-conflict-with-guava in local-m2-cache\n",
      "\tfound com.google.errorprone#error_prone_annotations;2.16 in central\n",
      "\tfound com.google.j2objc#j2objc-annotations;1.3 in local-m2-cache\n",
      "\tfound com.google.http-client#google-http-client;1.42.3 in central\n",
      "\tfound io.opencensus#opencensus-contrib-http-util;0.31.1 in central\n",
      "\tfound com.google.http-client#google-http-client-jackson2;1.42.3 in central\n",
      "\tfound com.google.http-client#google-http-client-gson;1.42.3 in central\n",
      "\tfound com.google.api-client#google-api-client;2.1.1 in central\n",
      "\tfound commons-codec#commons-codec;1.15 in central\n",
      "\tfound com.google.oauth-client#google-oauth-client;1.34.1 in central\n",
      "\tfound com.google.http-client#google-http-client-apache-v2;1.42.3 in central\n",
      "\tfound com.google.apis#google-api-services-storage;v1-rev20220705-2.0.0 in central\n",
      "\tfound com.google.code.gson#gson;2.10 in central\n",
      "\tfound com.google.cloud#google-cloud-core;2.9.0 in central\n",
      "\tfound com.google.auto.value#auto-value-annotations;1.10.1 in central\n",
      "\tfound com.google.cloud#google-cloud-core-http;2.9.0 in central\n",
      "\tfound com.google.http-client#google-http-client-appengine;1.42.3 in central\n",
      "\tfound com.google.api#gax-httpjson;0.105.1 in central\n",
      "\tfound com.google.cloud#google-cloud-core-grpc;2.9.0 in central\n",
      "\tfound io.grpc#grpc-core;1.51.0 in central\n",
      "\tfound com.google.api#gax;2.20.1 in central\n",
      "\tfound com.google.api#gax-grpc;2.20.1 in central\n",
      "\tfound io.grpc#grpc-alts;1.51.0 in central\n",
      "\tfound io.grpc#grpc-grpclb;1.51.0 in central\n",
      "\tfound org.conscrypt#conscrypt-openjdk-uber;2.5.2 in central\n",
      "\tfound io.grpc#grpc-protobuf;1.51.0 in central\n",
      "\tfound com.google.auth#google-auth-library-credentials;1.13.0 in central\n",
      "\tfound com.google.auth#google-auth-library-oauth2-http;1.13.0 in central\n",
      "\tfound com.google.api#api-common;2.2.2 in central\n",
      "\tfound javax.annotation#javax.annotation-api;1.3.2 in central\n",
      "\tfound io.opencensus#opencensus-api;0.31.1 in central\n",
      "\tfound io.grpc#grpc-context;1.51.0 in central\n",
      "\tfound com.google.api.grpc#proto-google-iam-v1;1.6.22 in central\n",
      "\tfound com.google.protobuf#protobuf-java;3.21.10 in central\n",
      "\tfound com.google.protobuf#protobuf-java-util;3.21.10 in central\n",
      "\tfound com.google.api.grpc#proto-google-common-protos;2.11.0 in central\n",
      "\tfound org.threeten#threetenbp;1.6.4 in central\n",
      "\tfound com.google.api.grpc#proto-google-cloud-storage-v2;2.16.0-alpha in central\n",
      "\tfound com.google.api.grpc#grpc-google-cloud-storage-v2;2.16.0-alpha in central\n",
      "\tfound com.google.api.grpc#gapic-google-cloud-storage-v2;2.16.0-alpha in central\n",
      "\tfound com.fasterxml.jackson.core#jackson-core;2.14.1 in central\n",
      "\tfound com.google.code.findbugs#jsr305;3.0.2 in local-m2-cache\n",
      "\tfound io.grpc#grpc-api;1.51.0 in central\n",
      "\tfound io.grpc#grpc-auth;1.51.0 in central\n",
      "\tfound io.grpc#grpc-stub;1.51.0 in central\n",
      "\tfound org.checkerframework#checker-qual;3.28.0 in central\n",
      "\tfound com.google.api.grpc#grpc-google-iam-v1;1.6.22 in central\n",
      "\tfound io.grpc#grpc-protobuf-lite;1.51.0 in central\n",
      "\tfound com.google.android#annotations;4.1.1.4 in central\n",
      "\tfound org.codehaus.mojo#animal-sniffer-annotations;1.22 in central\n",
      "\tfound io.grpc#grpc-netty-shaded;1.51.0 in central\n",
      "\tfound io.perfmark#perfmark-api;0.26.0 in central\n",
      "\tfound io.grpc#grpc-googleapis;1.51.0 in central\n",
      "\tfound io.grpc#grpc-xds;1.51.0 in central\n",
      "\tfound io.opencensus#opencensus-proto;0.2.0 in central\n",
      "\tfound io.grpc#grpc-services;1.51.0 in central\n",
      "\tfound com.google.re2j#re2j;1.6 in central\n",
      "\tfound com.navigamez#greex;1.0 in central\n",
      "\tfound dk.brics.automaton#automaton;1.11-8 in central\n",
      "\tfound com.johnsnowlabs.nlp#tensorflow-cpu_2.12;0.4.4 in central\n",
      ":: resolution report :: resolve 744ms :: artifacts dl 20ms\n",
      "\t:: modules in use:\n",
      "\tcom.amazonaws#aws-java-sdk-bundle;1.11.828 from central in [default]\n",
      "\tcom.fasterxml.jackson.core#jackson-core;2.14.1 from central in [default]\n",
      "\tcom.github.universal-automata#liblevenshtein;3.0.0 from central in [default]\n",
      "\tcom.google.android#annotations;4.1.1.4 from central in [default]\n",
      "\tcom.google.api#api-common;2.2.2 from central in [default]\n",
      "\tcom.google.api#gax;2.20.1 from central in [default]\n",
      "\tcom.google.api#gax-grpc;2.20.1 from central in [default]\n",
      "\tcom.google.api#gax-httpjson;0.105.1 from central in [default]\n",
      "\tcom.google.api-client#google-api-client;2.1.1 from central in [default]\n",
      "\tcom.google.api.grpc#gapic-google-cloud-storage-v2;2.16.0-alpha from central in [default]\n",
      "\tcom.google.api.grpc#grpc-google-cloud-storage-v2;2.16.0-alpha from central in [default]\n",
      "\tcom.google.api.grpc#grpc-google-iam-v1;1.6.22 from central in [default]\n",
      "\tcom.google.api.grpc#proto-google-cloud-storage-v2;2.16.0-alpha from central in [default]\n",
      "\tcom.google.api.grpc#proto-google-common-protos;2.11.0 from central in [default]\n",
      "\tcom.google.api.grpc#proto-google-iam-v1;1.6.22 from central in [default]\n",
      "\tcom.google.apis#google-api-services-storage;v1-rev20220705-2.0.0 from central in [default]\n",
      "\tcom.google.auth#google-auth-library-credentials;1.13.0 from central in [default]\n",
      "\tcom.google.auth#google-auth-library-oauth2-http;1.13.0 from central in [default]\n",
      "\tcom.google.auto.value#auto-value-annotations;1.10.1 from central in [default]\n",
      "\tcom.google.cloud#google-cloud-core;2.9.0 from central in [default]\n",
      "\tcom.google.cloud#google-cloud-core-grpc;2.9.0 from central in [default]\n",
      "\tcom.google.cloud#google-cloud-core-http;2.9.0 from central in [default]\n",
      "\tcom.google.cloud#google-cloud-storage;2.16.0 from central in [default]\n",
      "\tcom.google.code.findbugs#jsr305;3.0.2 from local-m2-cache in [default]\n",
      "\tcom.google.code.gson#gson;2.10 from central in [default]\n",
      "\tcom.google.errorprone#error_prone_annotations;2.16 from central in [default]\n",
      "\tcom.google.guava#failureaccess;1.0.1 from local-m2-cache in [default]\n",
      "\tcom.google.guava#guava;31.1-jre from central in [default]\n",
      "\tcom.google.guava#listenablefuture;9999.0-empty-to-avoid-conflict-with-guava from local-m2-cache in [default]\n",
      "\tcom.google.http-client#google-http-client;1.42.3 from central in [default]\n",
      "\tcom.google.http-client#google-http-client-apache-v2;1.42.3 from central in [default]\n",
      "\tcom.google.http-client#google-http-client-appengine;1.42.3 from central in [default]\n",
      "\tcom.google.http-client#google-http-client-gson;1.42.3 from central in [default]\n",
      "\tcom.google.http-client#google-http-client-jackson2;1.42.3 from central in [default]\n",
      "\tcom.google.j2objc#j2objc-annotations;1.3 from local-m2-cache in [default]\n",
      "\tcom.google.oauth-client#google-oauth-client;1.34.1 from central in [default]\n",
      "\tcom.google.protobuf#protobuf-java;3.21.10 from central in [default]\n",
      "\tcom.google.protobuf#protobuf-java-util;3.21.10 from central in [default]\n",
      "\tcom.google.re2j#re2j;1.6 from central in [default]\n",
      "\tcom.johnsnowlabs.nlp#spark-nlp_2.12;4.4.0 from central in [default]\n",
      "\tcom.johnsnowlabs.nlp#tensorflow-cpu_2.12;0.4.4 from central in [default]\n",
      "\tcom.navigamez#greex;1.0 from central in [default]\n",
      "\tcom.typesafe#config;1.4.2 from central in [default]\n",
      "\tcommons-codec#commons-codec;1.15 from central in [default]\n",
      "\tdk.brics.automaton#automaton;1.11-8 from central in [default]\n",
      "\tio.grpc#grpc-alts;1.51.0 from central in [default]\n",
      "\tio.grpc#grpc-api;1.51.0 from central in [default]\n",
      "\tio.grpc#grpc-auth;1.51.0 from central in [default]\n",
      "\tio.grpc#grpc-context;1.51.0 from central in [default]\n",
      "\tio.grpc#grpc-core;1.51.0 from central in [default]\n",
      "\tio.grpc#grpc-googleapis;1.51.0 from central in [default]\n",
      "\tio.grpc#grpc-grpclb;1.51.0 from central in [default]\n",
      "\tio.grpc#grpc-netty-shaded;1.51.0 from central in [default]\n",
      "\tio.grpc#grpc-protobuf;1.51.0 from central in [default]\n",
      "\tio.grpc#grpc-protobuf-lite;1.51.0 from central in [default]\n",
      "\tio.grpc#grpc-services;1.51.0 from central in [default]\n",
      "\tio.grpc#grpc-stub;1.51.0 from central in [default]\n",
      "\tio.grpc#grpc-xds;1.51.0 from central in [default]\n",
      "\tio.opencensus#opencensus-api;0.31.1 from central in [default]\n",
      "\tio.opencensus#opencensus-contrib-http-util;0.31.1 from central in [default]\n",
      "\tio.opencensus#opencensus-proto;0.2.0 from central in [default]\n",
      "\tio.perfmark#perfmark-api;0.26.0 from central in [default]\n",
      "\tit.unimi.dsi#fastutil;7.0.12 from central in [default]\n",
      "\tjavax.annotation#javax.annotation-api;1.3.2 from central in [default]\n",
      "\torg.checkerframework#checker-qual;3.28.0 from central in [default]\n",
      "\torg.codehaus.mojo#animal-sniffer-annotations;1.22 from central in [default]\n",
      "\torg.conscrypt#conscrypt-openjdk-uber;2.5.2 from central in [default]\n",
      "\torg.projectlombok#lombok;1.16.8 from central in [default]\n",
      "\torg.rocksdb#rocksdbjni;6.29.5 from central in [default]\n",
      "\torg.threeten#threetenbp;1.6.4 from central in [default]\n",
      "\t:: evicted modules:\n",
      "\tcom.google.protobuf#protobuf-java-util;3.0.0-beta-3 by [com.google.protobuf#protobuf-java-util;3.21.10] in [default]\n",
      "\tcom.google.protobuf#protobuf-java;3.0.0-beta-3 by [com.google.protobuf#protobuf-java;3.21.10] in [default]\n",
      "\tcom.google.code.gson#gson;2.3 by [com.google.code.gson#gson;2.10] in [default]\n",
      "\t---------------------------------------------------------------------\n",
      "\t|                  |            modules            ||   artifacts   |\n",
      "\t|       conf       | number| search|dwnlded|evicted|| number|dwnlded|\n",
      "\t---------------------------------------------------------------------\n",
      "\t|      default     |   73  |   0   |   0   |   3   ||   70  |   0   |\n",
      "\t---------------------------------------------------------------------\n",
      ":: retrieving :: org.apache.spark#spark-submit-parent-2a35eb90-a49f-486e-8b05-856d3e1e2be5\n",
      "\tconfs: [default]\n",
      "\t0 artifacts copied, 70 already retrieved (0kB/12ms)\n",
      "23/04/23 12:03:16 WARN NativeCodeLoader: Unable to load native-hadoop library for your platform... using builtin-java classes where applicable\n",
      "Using Spark's default log4j profile: org/apache/spark/log4j-defaults.properties\n",
      "Setting default log level to \"WARN\".\n",
      "To adjust logging level use sc.setLogLevel(newLevel). For SparkR, use setLogLevel(newLevel).\n",
      "23/04/23 12:03:17 WARN Utils: Service 'SparkUI' could not bind on port 4040. Attempting port 4041.\n"
     ]
    },
    {
     "name": "stdout",
     "output_type": "stream",
     "text": [
      "training file path /home/yarafatin/PycharmProjects/AIT-614-Final/data/train.csv\n",
      "Warning::Spark Session already created, some configs may not take.\n",
      "training file path /home/yarafatin/PycharmProjects/AIT-614-Final/data/train.csv\n"
     ]
    }
   ],
   "source": [
    "#set properties for local machine development and databricks\n",
    "\n",
    "# check if running in Databricks by looking for the DATABRICKS_RUNTIME_VERSION environment variable\n",
    "is_env_databricks = False\n",
    "is_aws_access_file_loaded = False\n",
    "if \"DATABRICKS_RUNTIME_VERSION\" in os.environ:\n",
    "    # set the CSV file path for Databricks\n",
    "    train_file_path = 'dbfs:/FileStore/tables/train.csv'\n",
    "    aws_s3_keys = 'dbfs:/FileStore/tables/ait614_databricks_accessKeys.csv'\n",
    "    s3_mount_path = '/mnt/ait614-models'\n",
    "    s3_bucket_name = 'ait614-models'\n",
    "    is_env_databricks = True\n",
    "    try:\n",
    "        dbutils.fs.ls(aws_s3_keys)\n",
    "        is_aws_access_file_loaded = True\n",
    "    except:\n",
    "        print('aws key not loaded, model will not be saved to s3')\n",
    "else:\n",
    "    # set the training file path for local machine. when running in jupyter notebook relative path doesn't work, so provide full path\n",
    "    train_file_path = '/opt/ait614/AIT614-DL2_Team3_sys/data/train.csv'\n",
    "    spark = sparknlp.start()\n",
    "\n",
    "print('training file path {}'.format(train_file_path))"
   ]
  },
  {
   "cell_type": "code",
   "execution_count": 20,
   "metadata": {
    "application/vnd.databricks.v1+cell": {
     "cellMetadata": {},
     "inputWidgets": {},
     "nuid": "feff951e-4086-4180-9307-894502f10189",
     "showTitle": false,
     "title": ""
    },
    "pycharm": {
     "name": "#%%\n"
    }
   },
   "outputs": [
    {
     "name": "stdout",
     "output_type": "stream",
     "text": [
      "root\n",
      " |-- qid: string (nullable = true)\n",
      " |-- question_text: string (nullable = true)\n",
      " |-- target: integer (nullable = true)\n",
      "\n",
      "+--------------------+--------------------+------+\n",
      "|                 qid|       question_text|target|\n",
      "+--------------------+--------------------+------+\n",
      "|00002165364db923c7e6|How did Quebec na...|     0|\n",
      "|000032939017120e6e44|Do you have an ad...|     0|\n",
      "|0000412ca6e4628ce2cf|Why does velocity...|     0|\n",
      "|000042bf85aa498cd78e|How did Otto von ...|     0|\n",
      "|0000455dfa3e01eae3af|Can I convert mon...|     0|\n",
      "|00004f9a462a357c33be|Is Gaza slowly be...|     0|\n",
      "|00005059a06ee19e11ad|Why does Quora au...|     0|\n",
      "|0000559f875832745e2e|Is it crazy if I ...|     0|\n",
      "|00005bd3426b2d0c8305|Is there such a t...|     0|\n",
      "|00006e6928c5df60eacb|Is it just me or ...|     0|\n",
      "+--------------------+--------------------+------+\n",
      "only showing top 10 rows\n",
      "\n",
      "root\n",
      " |-- qid: string (nullable = true)\n",
      " |-- question_text: string (nullable = true)\n",
      " |-- target: integer (nullable = true)\n",
      "\n",
      "+--------------------+--------------------+------+\n",
      "|                 qid|       question_text|target|\n",
      "+--------------------+--------------------+------+\n",
      "|00002165364db923c7e6|How did Quebec na...|     0|\n",
      "|000032939017120e6e44|Do you have an ad...|     0|\n",
      "|0000412ca6e4628ce2cf|Why does velocity...|     0|\n",
      "|000042bf85aa498cd78e|How did Otto von ...|     0|\n",
      "|0000455dfa3e01eae3af|Can I convert mon...|     0|\n",
      "|00004f9a462a357c33be|Is Gaza slowly be...|     0|\n",
      "|00005059a06ee19e11ad|Why does Quora au...|     0|\n",
      "|0000559f875832745e2e|Is it crazy if I ...|     0|\n",
      "|00005bd3426b2d0c8305|Is there such a t...|     0|\n",
      "|00006e6928c5df60eacb|Is it just me or ...|     0|\n",
      "+--------------------+--------------------+------+\n",
      "only showing top 10 rows\n",
      "\n"
     ]
    }
   ],
   "source": [
    "# Read the CSV file\n",
    "schema = \"qid STRING, question_text STRING, target INT\"\n",
    "df = spark.read.option(\"header\", \"true\")\\\n",
    "        .option(\"delimiter\", \",\")\\\n",
    "        .option(\"multiLine\", \"true\")\\\n",
    "        .option(\"quote\", \"\\\"\")\\\n",
    "        .option(\"escape\", \"\\\"\")\\\n",
    "        .schema(schema).csv(train_file_path)\n",
    "\n",
    "# databricks timesout for 1 million. It runs for 2 hours and then the instance is terminated\n",
    "# reducing to 100K to run end-to-end\n",
    "if \"DATABRICKS_RUNTIME_VERSION\" in os.environ:\n",
    "    df = df.limit(100000)\n",
    "\n",
    "df.printSchema()\n",
    "df.show(10)"
   ]
  },
  {
   "cell_type": "code",
   "execution_count": 21,
   "metadata": {
    "pycharm": {
     "name": "#%%\n"
    }
   },
   "outputs": [
    {
     "name": "stdout",
     "output_type": "stream",
     "text": [
      "glove_840B_300 download started this may take some time.\n",
      "Approximate size to download 2.3 GB\n",
      "[ | ]glove_840B_300 download started this may take some time.\n",
      "Approximate size to download 2.3 GB\n",
      "Download done! Loading the resource.\n",
      "[OK!]\n",
      "glove_840B_300 download started this may take some time.\n",
      "Approximate size to download 2.3 GB\n",
      "[OK!]\n"
     ]
    }
   ],
   "source": [
    "#takes a long time to download, so please be patient\n",
    "embeddings = WordEmbeddingsModel.pretrained(\"glove_840B_300\", \"xx\").setInputCols(\"document\", \"token\").setOutputCol(\n",
    "    \"embeddings\")"
   ]
  },
  {
   "cell_type": "code",
   "execution_count": 22,
   "metadata": {
    "pycharm": {
     "name": "#%%\n"
    }
   },
   "outputs": [],
   "source": [
    "document_assembler = DocumentAssembler().setInputCol(\"question_text\").setOutputCol(\"document\")\n",
    "tokenizer = Tokenizer().setInputCols([\"document\"]).setOutputCol(\"token\")"
   ]
  },
  {
   "cell_type": "code",
   "execution_count": 23,
   "metadata": {
    "pycharm": {
     "name": "#%%\n"
    }
   },
   "outputs": [],
   "source": [
    "nlpPipeline = Pipeline(stages=[document_assembler,\n",
    "                               tokenizer,\n",
    "                               embeddings])\n",
    "\n",
    "df = nlpPipeline.fit(df).transform(df)"
   ]
  },
  {
   "cell_type": "code",
   "execution_count": 24,
   "metadata": {
    "pycharm": {
     "name": "#%%\n"
    }
   },
   "outputs": [],
   "source": [
    "def avg_vectors(word_vectors):\n",
    "    length = len(word_vectors[0][\"embeddings\"])\n",
    "    avg_vec = [0] * length\n",
    "    for vec in word_vectors:\n",
    "        for i, x in enumerate(vec[\"embeddings\"]):\n",
    "            avg_vec[i] += x\n",
    "        avg_vec[i] = avg_vec[i] / length\n",
    "    return avg_vec\n",
    "\n",
    "\n",
    "def dense_vector(vec):\n",
    "    return Vectors.dense(vec)"
   ]
  },
  {
   "cell_type": "code",
   "execution_count": 25,
   "metadata": {
    "pycharm": {
     "name": "#%%\n"
    }
   },
   "outputs": [
    {
     "name": "stderr",
     "output_type": "stream",
     "text": [
      "[Stage 2:>                                                          (0 + 1) / 1]\r"
     ]
    },
    {
     "name": "stdout",
     "output_type": "stream",
     "text": [
      "+--------------------+--------------------+------+--------------------+--------------------+--------------------+--------------------+\n",
      "|                 qid|       question_text|target|            document|               token|          embeddings|          doc_vector|\n",
      "+--------------------+--------------------+------+--------------------+--------------------+--------------------+--------------------+\n",
      "|00002165364db923c7e6|How did Quebec na...|     0|[{document, 0, 71...|[{token, 0, 2, Ho...|[{word_embeddings...|[0.38199613126926...|\n",
      "|000032939017120e6e44|Do you have an ad...|     0|[{document, 0, 80...|[{token, 0, 1, Do...|[{word_embeddings...|[-0.7888190010562...|\n",
      "|0000412ca6e4628ce2cf|Why does velocity...|     0|[{document, 0, 66...|[{token, 0, 2, Wh...|[{word_embeddings...|[0.04380194842815...|\n",
      "|000042bf85aa498cd78e|How did Otto von ...|     0|[{document, 0, 56...|[{token, 0, 2, Ho...|[{word_embeddings...|[1.12683903053402...|\n",
      "|0000455dfa3e01eae3af|Can I convert mon...|     0|[{document, 0, 76...|[{token, 0, 2, Ca...|[{word_embeddings...|[3.57917102612555...|\n",
      "|00004f9a462a357c33be|Is Gaza slowly be...|     0|[{document, 0, 71...|[{token, 0, 1, Is...|[{word_embeddings...|[0.19421800225973...|\n",
      "|00005059a06ee19e11ad|Why does Quora au...|     0|[{document, 0, 11...|[{token, 0, 2, Wh...|[{word_embeddings...|[-1.2030513910576...|\n",
      "|0000559f875832745e2e|Is it crazy if I ...|     0|[{document, 0, 68...|[{token, 0, 1, Is...|[{word_embeddings...|[-1.8848890915978...|\n",
      "|00005bd3426b2d0c8305|Is there such a t...|     0|[{document, 0, 10...|[{token, 0, 1, Is...|[{word_embeddings...|[-1.2872349936515...|\n",
      "|00006e6928c5df60eacb|Is it just me or ...|     0|[{document, 0, 24...|[{token, 0, 1, Is...|[{word_embeddings...|[-1.1119125646073...|\n",
      "+--------------------+--------------------+------+--------------------+--------------------+--------------------+--------------------+\n",
      "only showing top 10 rows\n",
      "\n"
     ]
    },
    {
     "name": "stderr",
     "output_type": "stream",
     "text": [
      "                                                                                \r"
     ]
    },
    {
     "name": "stdout",
     "output_type": "stream",
     "text": [
      "+--------------------+--------------------+------+--------------------+--------------------+--------------------+--------------------+\n",
      "|                 qid|       question_text|target|            document|               token|          embeddings|          doc_vector|\n",
      "+--------------------+--------------------+------+--------------------+--------------------+--------------------+--------------------+\n",
      "|00002165364db923c7e6|How did Quebec na...|     0|[{document, 0, 71...|[{token, 0, 2, Ho...|[{word_embeddings...|[0.38199613126926...|\n",
      "|000032939017120e6e44|Do you have an ad...|     0|[{document, 0, 80...|[{token, 0, 1, Do...|[{word_embeddings...|[-0.7888190010562...|\n",
      "|0000412ca6e4628ce2cf|Why does velocity...|     0|[{document, 0, 66...|[{token, 0, 2, Wh...|[{word_embeddings...|[0.04380194842815...|\n",
      "|000042bf85aa498cd78e|How did Otto von ...|     0|[{document, 0, 56...|[{token, 0, 2, Ho...|[{word_embeddings...|[1.12683903053402...|\n",
      "|0000455dfa3e01eae3af|Can I convert mon...|     0|[{document, 0, 76...|[{token, 0, 2, Ca...|[{word_embeddings...|[3.57917102612555...|\n",
      "|00004f9a462a357c33be|Is Gaza slowly be...|     0|[{document, 0, 71...|[{token, 0, 1, Is...|[{word_embeddings...|[0.19421800225973...|\n",
      "|00005059a06ee19e11ad|Why does Quora au...|     0|[{document, 0, 11...|[{token, 0, 2, Wh...|[{word_embeddings...|[-1.2030513910576...|\n",
      "|0000559f875832745e2e|Is it crazy if I ...|     0|[{document, 0, 68...|[{token, 0, 1, Is...|[{word_embeddings...|[-1.8848890915978...|\n",
      "|00005bd3426b2d0c8305|Is there such a t...|     0|[{document, 0, 10...|[{token, 0, 1, Is...|[{word_embeddings...|[-1.2872349936515...|\n",
      "|00006e6928c5df60eacb|Is it just me or ...|     0|[{document, 0, 24...|[{token, 0, 1, Is...|[{word_embeddings...|[-1.1119125646073...|\n",
      "+--------------------+--------------------+------+--------------------+--------------------+--------------------+--------------------+\n",
      "only showing top 10 rows\n",
      "\n"
     ]
    }
   ],
   "source": [
    "# create a udf\n",
    "avg_vectors_udf = udf(avg_vectors, ArrayType(DoubleType()))\n",
    "df_doc_vec = df.withColumn(\"doc_vector\", avg_vectors_udf(col(\"embeddings\")))\n",
    "df_doc_vec.show(10)"
   ]
  },
  {
   "cell_type": "code",
   "execution_count": 26,
   "metadata": {
    "application/vnd.databricks.v1+cell": {
     "cellMetadata": {},
     "inputWidgets": {},
     "nuid": "cb56a788-7f06-49c0-96fb-3e4a54921d45",
     "showTitle": false,
     "title": ""
    },
    "pycharm": {
     "name": "#%%\n"
    }
   },
   "outputs": [],
   "source": [
    "dense_vector_udf = udf(dense_vector, VectorUDT())\n",
    "word_df = df_doc_vec.withColumn(\"features\", dense_vector_udf(col(\"doc_vector\")))"
   ]
  },
  {
   "cell_type": "code",
   "execution_count": 27,
   "metadata": {
    "application/vnd.databricks.v1+cell": {
     "cellMetadata": {},
     "inputWidgets": {},
     "nuid": "8af8dc69-5e1e-4b39-b72c-853ed6123eb7",
     "showTitle": false,
     "title": ""
    },
    "pycharm": {
     "name": "#%%\n"
    }
   },
   "outputs": [
    {
     "name": "stderr",
     "output_type": "stream",
     "text": [
      "                                                                                \r"
     ]
    }
   ],
   "source": [
    "# split train and test data\n",
    "# code inspired from https://stackoverflow.com/questions/47637760/stratified-sampling-with-pyspark\n",
    "split_ratio = 0.8\n",
    "seed = 42\n",
    "fractions = word_df.select('target').distinct().withColumn(\"fraction\", lit(split_ratio)).filter(\n",
    "    'fraction is not null').rdd.collectAsMap()\n",
    "\n",
    "train_df = word_df.stat.sampleBy('target', fractions, seed)\n",
    "test_df = word_df.join(train_df, on='qid', how=\"left_anti\")"
   ]
  },
  {
   "cell_type": "code",
   "execution_count": 28,
   "metadata": {
    "application/vnd.databricks.v1+cell": {
     "cellMetadata": {},
     "inputWidgets": {},
     "nuid": "33ece78c-da00-49bc-a605-310cc1797319",
     "showTitle": false,
     "title": ""
    },
    "pycharm": {
     "name": "#%%\n"
    }
   },
   "outputs": [
    {
     "name": "stderr",
     "output_type": "stream",
     "text": [
      "23/04/23 12:32:11 WARN InstanceBuilder$NativeBLAS: Failed to load implementation from:dev.ludovic.netlib.blas.JNIBLAS\n",
      "23/04/23 12:32:11 WARN InstanceBuilder$NativeBLAS: Failed to load implementation from:dev.ludovic.netlib.blas.ForeignLinkerBLAS\n",
      "                                                                                \r"
     ]
    }
   ],
   "source": [
    "lr = LogisticRegression(labelCol=\"target\", featuresCol=\"features\", maxIter=10, regParam=0.3, elasticNetParam=0.8)\n",
    "lrModel = lr.fit(train_df)"
   ]
  },
  {
   "cell_type": "code",
   "execution_count": 29,
   "metadata": {
    "pycharm": {
     "name": "#%%\n"
    }
   },
   "outputs": [
    {
     "name": "stderr",
     "output_type": "stream",
     "text": [
      "[Stage 8:>                                                          (0 + 1) / 1]\r"
     ]
    },
    {
     "name": "stdout",
     "output_type": "stream",
     "text": [
      "+------+----------+\n",
      "|target|prediction|\n",
      "+------+----------+\n",
      "|     0|       0.0|\n",
      "|     0|       0.0|\n",
      "|     0|       0.0|\n",
      "|     0|       0.0|\n",
      "|     0|       0.0|\n",
      "|     1|       0.0|\n",
      "|     0|       0.0|\n",
      "|     0|       0.0|\n",
      "|     0|       0.0|\n",
      "|     0|       0.0|\n",
      "+------+----------+\n",
      "only showing top 10 rows\n",
      "\n"
     ]
    },
    {
     "name": "stderr",
     "output_type": "stream",
     "text": [
      "[Stage 81:>                                                         (0 + 1) / 1]\r"
     ]
    },
    {
     "name": "stdout",
     "output_type": "stream",
     "text": [
      "+------+----------+\n",
      "|target|prediction|\n",
      "+------+----------+\n",
      "|     0|       0.0|\n",
      "|     0|       0.0|\n",
      "|     0|       0.0|\n",
      "|     0|       0.0|\n",
      "|     0|       0.0|\n",
      "|     1|       0.0|\n",
      "|     0|       0.0|\n",
      "|     0|       0.0|\n",
      "|     0|       0.0|\n",
      "|     0|       0.0|\n",
      "+------+----------+\n",
      "only showing top 10 rows\n",
      "\n"
     ]
    },
    {
     "name": "stderr",
     "output_type": "stream",
     "text": [
      "                                                                                \r"
     ]
    }
   ],
   "source": [
    "predictions = lrModel.transform(test_df)\n",
    "predictions.select(\"target\", \"prediction\").show(n=10, truncate=30)"
   ]
  },
  {
   "cell_type": "code",
   "execution_count": 30,
   "outputs": [
    {
     "name": "stderr",
     "output_type": "stream",
     "text": [
      "                                                                                \r"
     ]
    },
    {
     "name": "stdout",
     "output_type": "stream",
     "text": [
      "              precision    recall  f1-score   support\n",
      "\n",
      "           0       0.94      1.00      0.97    244581\n",
      "           1       0.00      0.00      0.00     16227\n",
      "\n",
      "    accuracy                           0.94    260808\n",
      "   macro avg       0.47      0.50      0.48    260808\n",
      "weighted avg       0.88      0.94      0.91    260808\n",
      "\n",
      "0.9377818165086961\n"
     ]
    },
    {
     "name": "stderr",
     "output_type": "stream",
     "text": [
      "/home/yarafatin/softwares/anaconda3/envs/ait614/lib/python3.10/site-packages/sklearn/metrics/_classification.py:1344: UndefinedMetricWarning: Precision and F-score are ill-defined and being set to 0.0 in labels with no predicted samples. Use `zero_division` parameter to control this behavior.\n",
      "  _warn_prf(average, modifier, msg_start, len(result))\n",
      "/home/yarafatin/softwares/anaconda3/envs/ait614/lib/python3.10/site-packages/sklearn/metrics/_classification.py:1344: UndefinedMetricWarning: Precision and F-score are ill-defined and being set to 0.0 in labels with no predicted samples. Use `zero_division` parameter to control this behavior.\n",
      "  _warn_prf(average, modifier, msg_start, len(result))\n",
      "/home/yarafatin/softwares/anaconda3/envs/ait614/lib/python3.10/site-packages/sklearn/metrics/_classification.py:1344: UndefinedMetricWarning: Precision and F-score are ill-defined and being set to 0.0 in labels with no predicted samples. Use `zero_division` parameter to control this behavior.\n",
      "  _warn_prf(average, modifier, msg_start, len(result))\n",
      "                                                                                \r"
     ]
    },
    {
     "name": "stdout",
     "output_type": "stream",
     "text": [
      "              precision    recall  f1-score   support\n",
      "\n",
      "           0       0.94      1.00      0.97    244581\n",
      "           1       0.00      0.00      0.00     16227\n",
      "\n",
      "    accuracy                           0.94    260808\n",
      "   macro avg       0.47      0.50      0.48    260808\n",
      "weighted avg       0.88      0.94      0.91    260808\n",
      "\n",
      "0.9377818165086961\n"
     ]
    },
    {
     "name": "stderr",
     "output_type": "stream",
     "text": [
      "/home/yarafatin/softwares/anaconda3/envs/ait614/lib/python3.10/site-packages/sklearn/metrics/_classification.py:1344: UndefinedMetricWarning: Precision and F-score are ill-defined and being set to 0.0 in labels with no predicted samples. Use `zero_division` parameter to control this behavior.\n",
      "  _warn_prf(average, modifier, msg_start, len(result))\n",
      "/home/yarafatin/softwares/anaconda3/envs/ait614/lib/python3.10/site-packages/sklearn/metrics/_classification.py:1344: UndefinedMetricWarning: Precision and F-score are ill-defined and being set to 0.0 in labels with no predicted samples. Use `zero_division` parameter to control this behavior.\n",
      "  _warn_prf(average, modifier, msg_start, len(result))\n",
      "/home/yarafatin/softwares/anaconda3/envs/ait614/lib/python3.10/site-packages/sklearn/metrics/_classification.py:1344: UndefinedMetricWarning: Precision and F-score are ill-defined and being set to 0.0 in labels with no predicted samples. Use `zero_division` parameter to control this behavior.\n",
      "  _warn_prf(average, modifier, msg_start, len(result))\n"
     ]
    }
   ],
   "source": [
    "# model performance evaluations\n",
    "pred_df = predictions.select('target', 'prediction').toPandas()\n",
    "print(classification_report(pred_df.target, pred_df.prediction))\n",
    "print(accuracy_score(pred_df.target, pred_df.prediction))"
   ],
   "metadata": {
    "collapsed": false,
    "pycharm": {
     "name": "#%%\n"
    }
   }
  },
  {
   "cell_type": "code",
   "execution_count": 31,
   "metadata": {
    "pycharm": {
     "name": "#%%\n"
    }
   },
   "outputs": [
    {
     "name": "stderr",
     "output_type": "stream",
     "text": [
      "[Stage 22:======================================================> (33 + 1) / 34]\r"
     ]
    },
    {
     "name": "stdout",
     "output_type": "stream",
     "text": [
      "AUC-ROC: 50.00%\n"
     ]
    },
    {
     "name": "stderr",
     "output_type": "stream",
     "text": [
      "[Stage 95:======================================================> (33 + 1) / 34]\r"
     ]
    },
    {
     "name": "stdout",
     "output_type": "stream",
     "text": [
      "AUC-ROC: 50.00%\n"
     ]
    },
    {
     "name": "stderr",
     "output_type": "stream",
     "text": [
      "                                                                                \r"
     ]
    }
   ],
   "source": [
    "# Compute AUC-ROC\n",
    "binary_evaluator = BinaryClassificationEvaluator(labelCol=\"target\", rawPredictionCol=\"prediction\",\n",
    "                                                 metricName=\"areaUnderROC\")\n",
    "auc_roc = binary_evaluator.evaluate(predictions)\n",
    "print(\"AUC-ROC: {:.2f}%\".format(auc_roc * 100))"
   ]
  },
  {
   "cell_type": "code",
   "execution_count": 32,
   "metadata": {
    "application/vnd.databricks.v1+cell": {
     "cellMetadata": {},
     "inputWidgets": {},
     "nuid": "d920ac0a-ec37-4b1e-a2e9-f8ac8a5f268e",
     "showTitle": false,
     "title": ""
    },
    "pycharm": {
     "name": "#%%\n"
    }
   },
   "outputs": [
    {
     "name": "stderr",
     "output_type": "stream",
     "text": [
      "[Stage 43:======================================================> (33 + 1) / 34]\r"
     ]
    },
    {
     "name": "stdout",
     "output_type": "stream",
     "text": [
      "AUC-PR: 6.22%\n"
     ]
    },
    {
     "name": "stderr",
     "output_type": "stream",
     "text": [
      "[Stage 116:=====================================================> (33 + 1) / 34]\r"
     ]
    },
    {
     "name": "stdout",
     "output_type": "stream",
     "text": [
      "AUC-PR: 6.22%\n"
     ]
    },
    {
     "name": "stderr",
     "output_type": "stream",
     "text": [
      "                                                                                \r"
     ]
    }
   ],
   "source": [
    "# Compute AUC-PR\n",
    "binary_evaluator = BinaryClassificationEvaluator(labelCol=\"target\", rawPredictionCol=\"prediction\",\n",
    "                                                 metricName=\"areaUnderPR\")\n",
    "auc_pr = binary_evaluator.evaluate(predictions)\n",
    "print(\"AUC-PR: {:.2f}%\".format(auc_pr * 100))"
   ]
  },
  {
   "cell_type": "code",
   "execution_count": 33,
   "metadata": {
    "application/vnd.databricks.v1+cell": {
     "cellMetadata": {},
     "inputWidgets": {},
     "nuid": "8ebe5dc8-56cb-4078-a624-99de7887d924",
     "showTitle": false,
     "title": ""
    },
    "pycharm": {
     "name": "#%%\n"
    }
   },
   "outputs": [
    {
     "name": "stderr",
     "output_type": "stream",
     "text": [
      "                                                                                \r"
     ]
    },
    {
     "data": {
      "text/plain": "<Figure size 800x800 with 1 Axes>",
      "image/png": "[encoded data removed]"
     },
     "metadata": {},
     "output_type": "display_data"
    },
    {
     "name": "stderr",
     "output_type": "stream",
     "text": [
      "                                                                                \r"
     ]
    },
    {
     "data": {
      "text/plain": "<Figure size 800x800 with 1 Axes>",
      "image/png": "[encoded data removed]"
     },
     "metadata": {},
     "output_type": "display_data"
    }
   ],
   "source": [
    "# Plot ROC curve\n",
    "results = predictions.select(['probability', 'target']).collect()\n",
    "results_list = [(float(i[0][1]), 1.0 - float(i[1])) for i in results]\n",
    "fpr, tpr, _ = roc_curve([i[1] for i in results_list], [i[0] for i in results_list])\n",
    "roc_auc = auc(fpr, tpr)\n",
    "plt.figure(figsize=(8, 8))\n",
    "plt.plot(fpr, tpr, color='darkorange', lw=2, label='ROC curve (area = %0.2f)' % roc_auc)\n",
    "plt.plot([0, 1], [0, 1], color='navy', lw=2, linestyle='--')\n",
    "plt.xlim([0.0, 1.0])\n",
    "plt.ylim([0.0, 1.05])\n",
    "plt.xlabel('False Positive Rate')\n",
    "plt.ylabel('True Positive Rate')\n",
    "plt.title('Receiver Operating Characteristic (ROC) Curve')\n",
    "plt.legend(loc=\"lower right\")\n",
    "plt.show()"
   ]
  },
  {
   "cell_type": "code",
   "execution_count": 34,
   "outputs": [
    {
     "name": "stdout",
     "output_type": "stream",
     "text": [
      "model saved to local machine - 20230423123650-word-model\n",
      "model saved to local machine - 20230423131034-word-model\n"
     ]
    }
   ],
   "source": [
    "# save model. if running in databricks save to s3.\n",
    "model_save_dir = datetime.datetime.now().strftime(\"%Y%m%d%H%M%S\") + '-word-model'\n",
    "\n",
    "if is_env_databricks:\n",
    "    if is_aws_access_file_loaded:\n",
    "        aws_keys_df = spark.read.option(\"header\", \"true\").option(\"delimiter\", \",\").csv(aws_s3_keys)\n",
    "\n",
    "        ACCESS_KEY = aws_keys_df.select('Access key ID').collect()[0]['Access key ID']\n",
    "        SECRET_KEY = aws_keys_df.select('Secret access key').collect()[0]['Secret access key']\n",
    "        ENCODED_SECRET_KEY = SECRET_KEY.replace(\"/\", \"%2F\")\n",
    "        # mount s3 if not already mounted\n",
    "        try:\n",
    "            dbutils.fs.ls(s3_mount_path)\n",
    "        except:\n",
    "            # see https://docs.databricks.com/dbfs/mounts.html#mount-a-bucket-using-aws-keys for reference\n",
    "            dbutils.fs.mount(f\"s3a://{ACCESS_KEY}:{ENCODED_SECRET_KEY}@{s3_bucket_name}\", s3_mount_path)\n",
    "        lrModel.save(s3_mount_path + '/' + model_save_dir)\n",
    "        print('model saved to s3 - ' + model_save_dir)\n",
    "else:\n",
    "    lrModel.save(model_save_dir)\n",
    "    print('model saved to local machine - ' + model_save_dir)"
   ],
   "metadata": {
    "collapsed": false,
    "pycharm": {
     "name": "#%%\n"
    }
   }
  }
 ],
 "metadata": {
  "application/vnd.databricks.v1+notebook": {
   "dashboards": [],
   "language": "python",
   "notebookMetadata": {
    "pythonIndentUnit": 4
   },
   "notebookName": "word_embedding_model_spark_nb",
   "notebookOrigID": 747062604701134,
   "widgets": {}
  },
  "kernelspec": {
   "display_name": "Python 3 (ipykernel)",
   "language": "python",
   "name": "python3"
  },
  "language_info": {
   "codemirror_mode": {
    "name": "ipython",
    "version": 3
   },
   "file_extension": ".py",
   "mimetype": "text/x-python",
   "name": "python",
   "nbconvert_exporter": "python",
   "pygments_lexer": "ipython3",
   "version": "3.10.10"
  }
 },
 "nbformat": 4,
 "nbformat_minor": 1
}