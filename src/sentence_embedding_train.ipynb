{
 "cells": [
  {
   "cell_type": "markdown",
   "metadata": {
    "pycharm": {
     "name": "#%% md\n"
    }
   },
   "source": [
    "### AIT 614 - Big Data Essentials <br>\n",
    "#### DL2 Team 3 Final Project\n",
    "#### Detecting Abrasive online user content\n",
    "\n",
    "##### Team 3\n",
    "Yasser Parambathkandy\n",
    "\n",
    "Indranil Pal\n",
    "\n",
    "Deepak Rajan\n",
    "\n",
    "<br>\n",
    "\n",
    "##### University\n",
    "George Mason University\n",
    "\n"
   ]
  },
  {
   "cell_type": "markdown",
   "metadata": {
    "application/vnd.databricks.v1+cell": {
     "cellMetadata": {},
     "inputWidgets": {},
     "nuid": "bbed6ec8-6c34-4798-8718-6ab57df408ae",
     "showTitle": false,
     "title": ""
    },
    "pycharm": {
     "name": "#%% md\n"
    }
   },
   "source": [
    "##### Installation\n",
    "\n",
    "###### Databricks:\n",
    "On an existing cluster, add the following to the Advanced Options -> Spark tab:\n",
    "``` \n",
    "  spark.kryoserializer.buffer.max 2000M\n",
    "  spark.serializer org.apache.spark.serializer.KryoSerializer\n",
    "```\n",
    "\n",
    "In Libraries tab inside the cluster:\n",
    "  * Install New -> PyPI -> spark-nlp==4.4.0 -> Install\n",
    "  * Install New -> Maven -> Coordinates -> com.johnsnowlabs.nlp:spark-nlp_2.12:4.4.0 -> Install\n",
    "  \n",
    "Refer https://github.com/JohnSnowLabs/spark-nlp#databricks-cluster for installation issues\n",
    "\n",
    "###### Local Machine:\n",
    "See README\n",
    "<br>\n",
    "\n",
    "##### Data load\n",
    "\n",
    "Upload train.csv to databricks. It should get loaded to dbfs:/FileStore/tables/train.csv\n",
    "For local development, update train.csv file path in second cell below\n",
    "<br>\n",
    "##### Saving Model\n",
    "\n",
    "Save model to use in real-time prediction services. The model gets saved to S3 bucket if runtime environment is databricks and AWS accesskey csv has been uploaded to dbfs:/FileStore/tables/ait614_databricks_accessKeys.csv. If either condition is not satisfied, then model is not saved in databricks. To overwrite the file path, bucket name, update properties in second cell below\n",
    "For local development, model is always saved.\n",
    "\n",
    "Saved model is used by prediction services when user enter new questions in UI."
   ]
  },
  {
   "cell_type": "code",
   "execution_count": 14,
   "metadata": {
    "application/vnd.databricks.v1+cell": {
     "cellMetadata": {},
     "inputWidgets": {},
     "nuid": "69fe4605-24f0-4026-9355-ef2f9e09ee20",
     "showTitle": false,
     "title": ""
    },
    "pycharm": {
     "name": "#%%\n"
    }
   },
   "outputs": [],
   "source": [
    "import datetime\n",
    "import os\n",
    "\n",
    "import matplotlib.pyplot as plt\n",
    "import sparknlp\n",
    "from pyspark.ml.classification import LogisticRegression\n",
    "from pyspark.ml.evaluation import BinaryClassificationEvaluator\n",
    "from pyspark.sql.functions import col, when, explode\n",
    "from sklearn.metrics import classification_report, accuracy_score\n",
    "from sklearn.metrics import roc_curve, auc, precision_recall_curve, average_precision_score\n",
    "from sparknlp.annotator import *\n",
    "from sparknlp.base import *"
   ]
  },
  {
   "cell_type": "code",
   "execution_count": 15,
   "metadata": {
    "pycharm": {
     "name": "#%%\n"
    }
   },
   "outputs": [
    {
     "name": "stdout",
     "output_type": "stream",
     "text": [
      "Warning::Spark Session already created, some configs may not take.\n",
      "training file path /home/yarafatin/PycharmProjects/AIT-614-Final/data/train.csv\n"
     ]
    }
   ],
   "source": [
    "#set properties for local machine development and databricks\n",
    "\n",
    "# check if running in Databricks by looking for the DATABRICKS_RUNTIME_VERSION environment variable\n",
    "if \"DATABRICKS_RUNTIME_VERSION\" in os.environ:\n",
    "    # set the CSV file path for Databricks\n",
    "    train_file_path = 'dbfs:/FileStore/tables/train.csv'\n",
    "    aws_s3_keys = 'dbfs:/FileStore/tables/ait614_databricks_accessKeys.csv'\n",
    "    s3_mount_path = '/mnt/ait614-models'\n",
    "    s3_bucket_name = 'ait614-models'\n",
    "else:\n",
    "    # set the training file path for local machine. when running in jupyter notebook relative path doesn't work, so provide full path\n",
    "    train_file_path = '/home/yarafatin/PycharmProjects/AIT-614-Final/data/train.csv'\n",
    "    spark = sparknlp.start()\n",
    "\n",
    "print('training file path {}'.format(train_file_path))"
   ]
  },
  {
   "cell_type": "code",
   "execution_count": 16,
   "metadata": {
    "pycharm": {
     "name": "#%%\n"
    }
   },
   "outputs": [
    {
     "name": "stdout",
     "output_type": "stream",
     "text": [
      "root\n",
      " |-- qid: string (nullable = true)\n",
      " |-- question_text: string (nullable = true)\n",
      " |-- target: integer (nullable = true)\n",
      "\n",
      "+--------------------+--------------------+------+\n",
      "|                 qid|       question_text|target|\n",
      "+--------------------+--------------------+------+\n",
      "|00002165364db923c7e6|How did Quebec na...|     0|\n",
      "|000032939017120e6e44|Do you have an ad...|     0|\n",
      "|0000412ca6e4628ce2cf|Why does velocity...|     0|\n",
      "|000042bf85aa498cd78e|How did Otto von ...|     0|\n",
      "|0000455dfa3e01eae3af|Can I convert mon...|     0|\n",
      "|00004f9a462a357c33be|Is Gaza slowly be...|     0|\n",
      "|00005059a06ee19e11ad|Why does Quora au...|     0|\n",
      "|0000559f875832745e2e|Is it crazy if I ...|     0|\n",
      "|00005bd3426b2d0c8305|Is there such a t...|     0|\n",
      "|00006e6928c5df60eacb|Is it just me or ...|     0|\n",
      "+--------------------+--------------------+------+\n",
      "only showing top 10 rows\n",
      "\n"
     ]
    },
    {
     "name": "stderr",
     "output_type": "stream",
     "text": [
      "                                                                                \r"
     ]
    }
   ],
   "source": [
    "# Read the CSV file\n",
    "schema = \"qid STRING, question_text STRING, target INT\"\n",
    "df = spark.read.option(\"header\", \"true\")\\\n",
    "            .option(\"delimiter\", \",\")\\\n",
    "            .option(\"multiLine\", \"true\")\\\n",
    "            .option(\"quote\", \"\\\"\")\\\n",
    "            .option(\"escape\", \"\\\"\")\\\n",
    "            .schema(schema).csv(train_file_path)\n",
    "\n",
    "df.printSchema()\n",
    "df.show(10)"
   ]
  },
  {
   "cell_type": "code",
   "execution_count": 17,
   "metadata": {
    "pycharm": {
     "name": "#%%\n"
    }
   },
   "outputs": [
    {
     "name": "stdout",
     "output_type": "stream",
     "text": [
      "tfhub_use download started this may take some time.\n"
     ]
    },
    {
     "name": "stderr",
     "output_type": "stream",
     "text": [
      "[Stage 6:>                                                          (0 + 1) / 1]\r"
     ]
    },
    {
     "name": "stdout",
     "output_type": "stream",
     "text": [
      "Approximate size to download 923.7 MB\n",
      "[OK!]\n"
     ]
    }
   ],
   "source": [
    "#Download universal sentence encoder ~1GB. This will take some time.\n",
    "useEmbeddings = UniversalSentenceEncoder.pretrained().setInputCols(\"document\").setOutputCol(\"use_embeddings\")"
   ]
  },
  {
   "cell_type": "code",
   "execution_count": 18,
   "metadata": {
    "application/vnd.databricks.v1+cell": {
     "cellMetadata": {},
     "inputWidgets": {},
     "nuid": "53ce0b81-7c8b-4d5d-8992-f7f1fe101d96",
     "showTitle": false,
     "title": ""
    },
    "pycharm": {
     "name": "#%%\n"
    }
   },
   "outputs": [
    {
     "name": "stdout",
     "output_type": "stream",
     "text": [
      "+-----------------------+\n",
      "|finished_use_embeddings|\n",
      "+-----------------------+\n",
      "|   [[-0.004166585393...|\n",
      "|   [[0.0288510099053...|\n",
      "|   [[-0.027575196698...|\n",
      "+-----------------------+\n",
      "only showing top 3 rows\n",
      "\n"
     ]
    },
    {
     "name": "stderr",
     "output_type": "stream",
     "text": [
      "                                                                                \r"
     ]
    }
   ],
   "source": [
    "# create data pipeline before training to generate embeddings for each question. USE (universal sentence encoder) generates embeddings of size 512 fo each question.\n",
    "document_assembler = DocumentAssembler().setInputCol(\"question_text\").setOutputCol(\"document\")\n",
    "embeddings_finisher = EmbeddingsFinisher().setInputCols([\"use_embeddings\"]).setOutputCols(\n",
    "    [\"finished_use_embeddings\"]).setOutputAsVector(True).setCleanAnnotations(False)\n",
    "\n",
    "use_pipeline = Pipeline(stages=[\n",
    "    document_assembler,\n",
    "    useEmbeddings,\n",
    "    embeddings_finisher])\n",
    "\n",
    "use_df = use_pipeline.fit(df).transform(df)\n",
    "use_df.select('finished_use_embeddings').show(3)\n",
    "use_df = use_df.withColumn(\"features\", explode(use_df.finished_use_embeddings))"
   ]
  },
  {
   "cell_type": "code",
   "execution_count": 19,
   "metadata": {
    "pycharm": {
     "name": "#%%\n"
    }
   },
   "outputs": [
    {
     "name": "stdout",
     "output_type": "stream",
     "text": [
      "root\n",
      " |-- qid: string (nullable = true)\n",
      " |-- question_text: string (nullable = true)\n",
      " |-- target: integer (nullable = true)\n",
      " |-- document: array (nullable = true)\n",
      " |    |-- element: struct (containsNull = true)\n",
      " |    |    |-- annotatorType: string (nullable = true)\n",
      " |    |    |-- begin: integer (nullable = false)\n",
      " |    |    |-- end: integer (nullable = false)\n",
      " |    |    |-- result: string (nullable = true)\n",
      " |    |    |-- metadata: map (nullable = true)\n",
      " |    |    |    |-- key: string\n",
      " |    |    |    |-- value: string (valueContainsNull = true)\n",
      " |    |    |-- embeddings: array (nullable = true)\n",
      " |    |    |    |-- element: float (containsNull = false)\n",
      " |-- use_embeddings: array (nullable = true)\n",
      " |    |-- element: struct (containsNull = true)\n",
      " |    |    |-- annotatorType: string (nullable = true)\n",
      " |    |    |-- begin: integer (nullable = false)\n",
      " |    |    |-- end: integer (nullable = false)\n",
      " |    |    |-- result: string (nullable = true)\n",
      " |    |    |-- metadata: map (nullable = true)\n",
      " |    |    |    |-- key: string\n",
      " |    |    |    |-- value: string (valueContainsNull = true)\n",
      " |    |    |-- embeddings: array (nullable = true)\n",
      " |    |    |    |-- element: float (containsNull = false)\n",
      " |-- finished_use_embeddings: array (nullable = true)\n",
      " |    |-- element: vector (containsNull = true)\n",
      " |-- features: vector (nullable = true)\n",
      "\n"
     ]
    }
   ],
   "source": [
    "use_df.printSchema()"
   ]
  },
  {
   "cell_type": "code",
   "execution_count": 20,
   "metadata": {
    "pycharm": {
     "name": "#%%\n"
    }
   },
   "outputs": [
    {
     "name": "stderr",
     "output_type": "stream",
     "text": [
      "                                                                                \r"
     ]
    },
    {
     "data": {
      "text/plain": "0.06187046173540482"
     },
     "execution_count": 20,
     "metadata": {},
     "output_type": "execute_result"
    }
   ],
   "source": [
    "# target 0 and 1 are highly imbalanced, so adding weights to account for that. the weights will be used by logictic regression\n",
    "insincere_count = use_df.groupBy('target').agg({'target': 'count'}).filter(col('target') == 1).collect()[0][1]\n",
    "class_ratio = insincere_count / use_df.count()\n",
    "class_ratio"
   ]
  },
  {
   "cell_type": "code",
   "execution_count": 21,
   "metadata": {
    "pycharm": {
     "name": "#%%\n"
    }
   },
   "outputs": [
    {
     "name": "stdout",
     "output_type": "stream",
     "text": [
      "+--------------------+--------------------+------+--------------------+--------------------+-----------------------+--------------------+-------------------+\n",
      "|                 qid|       question_text|target|            document|      use_embeddings|finished_use_embeddings|            features|             weight|\n",
      "+--------------------+--------------------+------+--------------------+--------------------+-----------------------+--------------------+-------------------+\n",
      "|00002165364db923c7e6|How did Quebec na...|     0|[{document, 0, 71...|[{sentence_embedd...|   [[-0.004166585393...|[-0.0041665853932...|0.06187046173540482|\n",
      "|000032939017120e6e44|Do you have an ad...|     0|[{document, 0, 80...|[{sentence_embedd...|   [[0.0288510099053...|[0.02885100990533...|0.06187046173540482|\n",
      "|0000412ca6e4628ce2cf|Why does velocity...|     0|[{document, 0, 66...|[{sentence_embedd...|   [[-0.027575196698...|[-0.0275751966983...|0.06187046173540482|\n",
      "|000042bf85aa498cd78e|How did Otto von ...|     0|[{document, 0, 56...|[{sentence_embedd...|   [[0.0117318816483...|[0.01173188164830...|0.06187046173540482|\n",
      "|0000455dfa3e01eae3af|Can I convert mon...|     0|[{document, 0, 76...|[{sentence_embedd...|   [[0.0157999917864...|[0.01579999178647...|0.06187046173540482|\n",
      "|00004f9a462a357c33be|Is Gaza slowly be...|     0|[{document, 0, 71...|[{sentence_embedd...|   [[-0.031953081488...|[-0.0319530814886...|0.06187046173540482|\n",
      "|00005059a06ee19e11ad|Why does Quora au...|     0|[{document, 0, 11...|[{sentence_embedd...|   [[-0.017039958387...|[-0.0170399583876...|0.06187046173540482|\n",
      "|0000559f875832745e2e|Is it crazy if I ...|     0|[{document, 0, 68...|[{sentence_embedd...|   [[-0.032156847417...|[-0.0321568474173...|0.06187046173540482|\n",
      "|00005bd3426b2d0c8305|Is there such a t...|     0|[{document, 0, 10...|[{sentence_embedd...|   [[0.0082888239994...|[0.00828882399946...|0.06187046173540482|\n",
      "|00006e6928c5df60eacb|Is it just me or ...|     0|[{document, 0, 24...|[{sentence_embedd...|   [[-0.018821302801...|[-0.0188213028013...|0.06187046173540482|\n",
      "+--------------------+--------------------+------+--------------------+--------------------+-----------------------+--------------------+-------------------+\n",
      "only showing top 10 rows\n",
      "\n"
     ]
    }
   ],
   "source": [
    "insincere_weight = 1 - class_ratio\n",
    "sincere_weight = class_ratio\n",
    "weighted_df = use_df.withColumn(\"weight\",\n",
    "                                when(col(\"target\") == 1, insincere_weight)\n",
    "                                .otherwise(sincere_weight)\n",
    "                                )\n",
    "\n",
    "weighted_df.show(10)"
   ]
  },
  {
   "cell_type": "code",
   "execution_count": 22,
   "metadata": {
    "pycharm": {
     "name": "#%%\n"
    }
   },
   "outputs": [],
   "source": [
    "# split train and test data\n",
    "(train_df, test_df) = weighted_df.randomSplit([0.8, 0.2], seed=100)"
   ]
  },
  {
   "cell_type": "code",
   "execution_count": 23,
   "metadata": {
    "application/vnd.databricks.v1+cell": {
     "cellMetadata": {},
     "inputWidgets": {},
     "nuid": "3a706430-2c0e-4f42-98b0-e64de5620de5",
     "showTitle": false,
     "title": ""
    },
    "pycharm": {
     "name": "#%%\n"
    }
   },
   "outputs": [
    {
     "name": "stderr",
     "output_type": "stream",
     "text": [
      "23/04/19 22:30:49 WARN InstanceBuilder$NativeBLAS: Failed to load implementation from:dev.ludovic.netlib.blas.JNIBLAS\n",
      "23/04/19 22:30:49 WARN InstanceBuilder$NativeBLAS: Failed to load implementation from:dev.ludovic.netlib.blas.ForeignLinkerBLAS\n",
      "23/04/19 22:30:50 WARN BLAS: Failed to load implementation from: com.github.fommil.netlib.NativeSystemBLAS\n",
      "23/04/19 22:30:50 WARN BLAS: Failed to load implementation from: com.github.fommil.netlib.NativeRefBLAS\n",
      "                                                                                \r"
     ]
    }
   ],
   "source": [
    "# train using logistic regression\n",
    "lr = LogisticRegression(labelCol=\"target\", featuresCol=\"features\", weightCol=\"weight\", maxIter=10, regParam=0.3,\n",
    "                        elasticNetParam=0.8)\n",
    "lrModel = lr.fit(train_df)"
   ]
  },
  {
   "cell_type": "code",
   "execution_count": 24,
   "metadata": {
    "pycharm": {
     "name": "#%%\n"
    }
   },
   "outputs": [
    {
     "name": "stderr",
     "output_type": "stream",
     "text": [
      "[Stage 34:>                                                         (0 + 1) / 1]\r"
     ]
    },
    {
     "name": "stdout",
     "output_type": "stream",
     "text": [
      "+------+----------+\n",
      "|target|prediction|\n",
      "+------+----------+\n",
      "|     0|       0.0|\n",
      "|     0|       1.0|\n",
      "|     0|       0.0|\n",
      "|     0|       0.0|\n",
      "|     0|       0.0|\n",
      "|     0|       0.0|\n",
      "|     0|       0.0|\n",
      "|     0|       0.0|\n",
      "|     0|       1.0|\n",
      "|     0|       0.0|\n",
      "+------+----------+\n",
      "only showing top 10 rows\n",
      "\n"
     ]
    },
    {
     "name": "stderr",
     "output_type": "stream",
     "text": [
      "                                                                                \r"
     ]
    }
   ],
   "source": [
    "# predict the test data\n",
    "predictions = lrModel.transform(test_df)\n",
    "predictions.select(\"target\", \"prediction\").show(10)"
   ]
  },
  {
   "cell_type": "code",
   "execution_count": 25,
   "metadata": {
    "pycharm": {
     "name": "#%%\n"
    }
   },
   "outputs": [
    {
     "name": "stderr",
     "output_type": "stream",
     "text": [
      "                                                                                \r"
     ]
    },
    {
     "name": "stdout",
     "output_type": "stream",
     "text": [
      "              precision    recall  f1-score   support\n",
      "\n",
      "           0       0.99      0.77      0.86    245073\n",
      "           1       0.19      0.83      0.31     16048\n",
      "\n",
      "    accuracy                           0.77    261121\n",
      "   macro avg       0.59      0.80      0.58    261121\n",
      "weighted avg       0.94      0.77      0.83    261121\n",
      "\n",
      "0.7694210729891506\n"
     ]
    }
   ],
   "source": [
    "# model performance evaluations\n",
    "pred_df = predictions.select('target', 'prediction').toPandas()\n",
    "print(classification_report(pred_df.target, pred_df.prediction))\n",
    "print(accuracy_score(pred_df.target, pred_df.prediction))"
   ]
  },
  {
   "cell_type": "code",
   "execution_count": 26,
   "metadata": {
    "pycharm": {
     "name": "#%%\n"
    }
   },
   "outputs": [
    {
     "name": "stderr",
     "output_type": "stream",
     "text": [
      "[Stage 36:>                                                         (0 + 1) / 1]\r"
     ]
    },
    {
     "name": "stdout",
     "output_type": "stream",
     "text": [
      "AUC-ROC: 79.97%\n"
     ]
    },
    {
     "name": "stderr",
     "output_type": "stream",
     "text": [
      "                                                                                \r"
     ]
    }
   ],
   "source": [
    "# Compute AUC-ROC\n",
    "binary_evaluator = BinaryClassificationEvaluator(labelCol=\"target\", rawPredictionCol=\"prediction\",\n",
    "                                                 metricName=\"areaUnderROC\")\n",
    "auc_roc = binary_evaluator.evaluate(predictions)\n",
    "print(\"AUC-ROC: {:.2f}%\".format(auc_roc * 100))"
   ]
  },
  {
   "cell_type": "code",
   "execution_count": 27,
   "metadata": {
    "pycharm": {
     "name": "#%%\n"
    }
   },
   "outputs": [
    {
     "name": "stderr",
     "output_type": "stream",
     "text": [
      "[Stage 45:>                                                         (0 + 1) / 1]\r"
     ]
    },
    {
     "name": "stdout",
     "output_type": "stream",
     "text": [
      "AUC-PR: 17.82%\n"
     ]
    },
    {
     "name": "stderr",
     "output_type": "stream",
     "text": [
      "                                                                                \r"
     ]
    }
   ],
   "source": [
    "# Compute AUC-PR\n",
    "binary_evaluator = BinaryClassificationEvaluator(labelCol=\"target\", rawPredictionCol=\"prediction\",\n",
    "                                                 metricName=\"areaUnderPR\")\n",
    "auc_pr = binary_evaluator.evaluate(predictions)\n",
    "print(\"AUC-PR: {:.2f}%\".format(auc_pr * 100))"
   ]
  },
  {
   "cell_type": "code",
   "execution_count": 28,
   "metadata": {
    "pycharm": {
     "name": "#%%\n"
    }
   },
   "outputs": [
    {
     "name": "stderr",
     "output_type": "stream",
     "text": [
      "                                                                                \r"
     ]
    },
    {
     "data": {
      "text/plain": "<Figure size 800x800 with 1 Axes>",
      "image/png": "[encoded data removed]"
     },
     "metadata": {},
     "output_type": "display_data"
    }
   ],
   "source": [
    "# Plot ROC curve\n",
    "results = predictions.select(['probability', 'target']).collect()\n",
    "results_list = [(float(i[0][1]), 1.0 - float(i[1])) for i in results]\n",
    "fpr, tpr, _ = roc_curve([i[1] for i in results_list], [i[0] for i in results_list])\n",
    "roc_auc = auc(fpr, tpr)\n",
    "plt.figure(figsize=(8, 8))\n",
    "plt.plot(fpr, tpr, color='darkorange', lw=2, label='ROC curve (area = %0.2f)' % roc_auc)\n",
    "plt.plot([0, 1], [0, 1], color='navy', lw=2, linestyle='--')\n",
    "plt.xlim([0.0, 1.0])\n",
    "plt.ylim([0.0, 1.05])\n",
    "plt.xlabel('False Positive Rate')\n",
    "plt.ylabel('True Positive Rate')\n",
    "plt.title('Receiver Operating Characteristic (ROC) Curve')\n",
    "plt.legend(loc=\"lower right\")\n",
    "plt.show()"
   ]
  },
  {
   "cell_type": "code",
   "execution_count": 29,
   "metadata": {
    "pycharm": {
     "name": "#%%\n"
    }
   },
   "outputs": [
    {
     "data": {
      "text/plain": "<Figure size 800x800 with 1 Axes>",
      "image/png": "[encoded data removed]"
     },
     "metadata": {},
     "output_type": "display_data"
    }
   ],
   "source": [
    "# Plot precision-recall curve\n",
    "y_true = [i[1] for i in results_list]\n",
    "y_scores = [i[0] for i in results_list]\n",
    "precision, recall, _ = precision_recall_curve(y_true, y_scores)\n",
    "average_precision = average_precision_score(y_true, y_scores)\n",
    "plt.figure(figsize=(8, 8))\n",
    "plt.step(recall, precision, color='b', alpha=0.2, where='post')\n",
    "plt.fill_between(recall, precision, step='post', alpha=0.2, color='b')\n",
    "plt.xlabel('Recall')\n",
    "plt.ylabel('Precision')\n",
    "plt.ylim([0.0, 1.05])\n",
    "plt.xlim([0.0, 1.0])\n",
    "plt.title('Precision-Recall curve: AUC-PR={0:0.2f}'.format(average_precision))\n",
    "plt.show()"
   ]
  },
  {
   "cell_type": "code",
   "execution_count": 30,
   "metadata": {
    "pycharm": {
     "name": "#%%\n"
    }
   },
   "outputs": [],
   "source": [
    "# save model. if running in databricks save to s3.\n",
    "model_save_dir = datetime.datetime.now().strftime(\"%Y%m%d%H%M%S\") + '-sentence-model'\n",
    "\n",
    "if \"DATABRICKS_RUNTIME_VERSION\" in os.environ:\n",
    "    try:\n",
    "        dbutils.fs.ls(aws_s3_keys)\n",
    "        aws_keys_df = spark.read.csv(aws_s3_keys)\n",
    "\n",
    "        ACCESS_KEY = aws_keys_df.select('Access key ID').collect()[0]['Access key ID']\n",
    "        SECRET_KEY = aws_keys_df.select('Secret access key').collect()[0]['Secret access key']\n",
    "        ENCODED_SECRET_KEY = SECRET_KEY.replace(\"/\", \"%2F\")\n",
    "        # see https://docs.databricks.com/dbfs/mounts.html#mount-a-bucket-using-aws-keys for reference\n",
    "        dbutils.fs.mount(f\"s3a://{ACCESS_KEY}:{ENCODED_SECRET_KEY}@{s3_bucket_name}\", s3_mount_path)\n",
    "        lrModel.save(s3_mount_path + '/' + model_save_dir)\n",
    "    except Exception as e:\n",
    "        print('no aws access key file loaded, so model is not being saved to s3')\n",
    "else:\n",
    "    lrModel.save(model_save_dir)"
   ]
  }
 ],
 "metadata": {
  "application/vnd.databricks.v1+notebook": {
   "dashboards": [],
   "language": "python",
   "notebookMetadata": {
    "pythonIndentUnit": 4
   },
   "notebookName": "sentence_embedding_model_spark",
   "notebookOrigID": 1178277917440739,
   "widgets": {}
  },
  "kernelspec": {
   "display_name": "Python 3 (ipykernel)",
   "language": "python",
   "name": "python3"
  },
  "language_info": {
   "codemirror_mode": {
    "name": "ipython",
    "version": 3
   },
   "file_extension": ".py",
   "mimetype": "text/x-python",
   "name": "python",
   "nbconvert_exporter": "python",
   "pygments_lexer": "ipython3",
   "version": "3.10.10"
  }
 },
 "nbformat": 4,
 "nbformat_minor": 1
}